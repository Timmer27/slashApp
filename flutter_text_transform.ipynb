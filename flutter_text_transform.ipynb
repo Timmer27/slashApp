{
 "cells": [
  {
   "cell_type": "code",
   "execution_count": 9,
   "metadata": {},
   "outputs": [
    {
     "name": "stdout",
     "output_type": "stream",
     "text": [
      "저장 완료 - 1.txt\n",
      "저장 완료 - 10.txt\n",
      "저장 완료 - 11.txt\n",
      "저장 완료 - 12.txt\n",
      "저장 완료 - 13.txt\n",
      "저장 완료 - 14.txt\n",
      "저장 완료 - 15.txt\n",
      "저장 완료 - 17.txt\n",
      "저장 완료 - 18.txt\n",
      "저장 완료 - 2.txt\n",
      "저장 완료 - 3.txt\n",
      "저장 완료 - 4.txt\n",
      "저장 완료 - 5.txt\n",
      "저장 완료 - 6.txt\n",
      "저장 완료 - 7.txt\n",
      "저장 완료 - 8.txt\n",
      "저장 완료 - 9.txt\n"
     ]
    }
   ],
   "source": [
    "def save_as_utf8(filename):\n",
    "    with open(filename, 'r') as file:\n",
    "        contents = file.read()\n",
    "\n",
    "    # new_filename = filename.split('.')[0] + '.txt'\n",
    "    with open(filename, 'w', encoding='utf-8') as file:\n",
    "        file.write(contents)\n",
    "\n",
    "    print(f'저장 완료 - {filename}')\n",
    "    # print(f\"{filename}을(를) UTF-8 형식으로 저장한 파일명: {filename}\")\n",
    "\n",
    "import os\n",
    "try:\n",
    "    os.chdir('./BASIC 직독직해')\n",
    "except:\n",
    "    pass\n",
    "files = os.listdir()\n",
    "\n",
    "for file in files:\n",
    "    save_as_utf8(file)"
   ]
  },
  {
   "cell_type": "code",
   "execution_count": 7,
   "metadata": {},
   "outputs": [],
   "source": [
    "with open('1.txt', 'r') as file:\n",
    "    contents = file.read()"
   ]
  },
  {
   "cell_type": "code",
   "execution_count": 8,
   "metadata": {},
   "outputs": [
    {
     "data": {
      "text/plain": [
       "'오늘 여름 방학이 시작되었습니다./ 나는 친구와 함께 노는 것을 원했습니다./ 그래서 나는 엄마에게 말했습니다./ “나는 이번 방학에 친구네 집에서 잘 거예요./ “ 엄마는 대답했습니다.  “너 미쳤니? 그것은 좋지 않단다.”/ 친구의 어머니께서 그것을 싫어하실 거야.”/ “아니에요. 엄마. 친구 엄마가 우리 함께 자도 된다고 말했어요.”/  그러나 그것은 소용이 없었습니다./ 나는 친구와 컴퓨터 게임을 하기를 원합니다./ 요즘 인기 있는 게임은 “써든 어택”입니다./ 나의 친구는 학원에 가지 않습니다./ 나의 친구는 항상 컴퓨터 게임을 합니다./ 그는 공부를 잘 하지 못합니다./ 나는 그가 걱정이 됩니다./ 오늘 그가 나에게 전화를 했습니다./ “우리 피씨방에 가자.”/ 나는 피씨방에 가본적이 없습니다./ 그래서 나는 엄마에게 물었습니다./ “엄마 피씨방에 가도 되요?”/ 엄마는 말했습니다. “안돼. 피씨방은 더럽고 그것은 건강에 좋지 않아.”/ 그러나 나는 그곳에 가기를 원했습니다./ 지금은 6시 입니다./ 학원에 갈 시간입니다./ 그러나 나는 친구와 함께 PC방에 갔습니다./ 나는 무섭기도 했습니다./ 하지만 엄마는 모를 것입니다./ 왜냐하면 나는 선생님께 나는 아파서 못 간다고 얘기를 했기 때문입니다./ 선생님은 알았다고 이야기 했습니다./ '"
      ]
     },
     "execution_count": 8,
     "metadata": {},
     "output_type": "execute_result"
    }
   ],
   "source": [
    "contents"
   ]
  },
  {
   "cell_type": "code",
   "execution_count": null,
   "metadata": {},
   "outputs": [],
   "source": []
  },
  {
   "cell_type": "code",
   "execution_count": null,
   "metadata": {},
   "outputs": [],
   "source": []
  }
 ],
 "metadata": {
  "kernelspec": {
   "display_name": "Python 3",
   "language": "python",
   "name": "python3"
  },
  "language_info": {
   "codemirror_mode": {
    "name": "ipython",
    "version": 3
   },
   "file_extension": ".py",
   "mimetype": "text/x-python",
   "name": "python",
   "nbconvert_exporter": "python",
   "pygments_lexer": "ipython3",
   "version": "3.10.7"
  },
  "orig_nbformat": 4
 },
 "nbformat": 4,
 "nbformat_minor": 2
}
